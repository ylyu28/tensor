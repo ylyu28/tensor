{
 "cells": [
  {
   "cell_type": "markdown",
   "metadata": {},
   "source": [
    "Mann Whitney to test kpca distribution difference mild vs severe"
   ]
  },
  {
   "cell_type": "code",
   "execution_count": 2,
   "metadata": {},
   "outputs": [],
   "source": [
    "import pickle\n",
    "import tensorly as tl\n",
    "import numpy as np\n",
    "import pandas as pd\n",
    "import tlviz\n",
    "from sklearn.preprocessing import scale\n",
    "from tensorly.decomposition import parafac2\n",
    "from tlviz.utils import normalise\n",
    "import seaborn as sns\n",
    "import matplotlib.pyplot as plt\n",
    "from sklearn.preprocessing import StandardScaler\n",
    "from sklearn.decomposition import PCA\n",
    "import numpy.linalg as la\n",
    "import sspa\n",
    "import scipy.stats as stats\n",
    "from pathway_feature_selection import bootstrap_feature_select_pr2, feature_select_bs_ci, significant_pathways, harmonic_pvalue,combined_pseudoz, significant_pseudoz, plot_zscore_distribution"
   ]
  },
  {
   "cell_type": "code",
   "execution_count": 39,
   "metadata": {},
   "outputs": [],
   "source": [
    "with open('metab_kpca.pkl','rb') as f:\n",
    "    metab_kpca = pickle.load(f)\n",
    "\n",
    "with open('prot_kpca.pkl','rb') as f:\n",
    "    prot_kpca = pickle.load(f)\n",
    "\n",
    "with open('metadata_binary.pkl','rb') as f:\n",
    "    metadata_binary = pickle.load(f)\n",
    "    \n",
    "with open('p1_sigpath_dict.pkl','rb') as f:\n",
    "    p1_sigpath_dict = pickle.load(f) \n",
    "\n",
    "with open('parafac2_common_metab_sigpath_dict.pkl','rb') as f:\n",
    "    parafac2_common_metab_sigpath_dict = pickle.load(f)\n",
    "\n",
    "with open('parafac2_common_prot_sigpath_dict.pkl','rb') as f:\n",
    "    parafac2_common_prot_sigpath_dict = pickle.load(f)\n",
    "\n",
    "with open('parafac2_all_prot_sigpath_dict.pkl','rb') as f:\n",
    "    parafac2_all_prot_sigpath_dict = pickle.load(f)\n",
    "\n",
    "with open('parafac2_all_metab_sigpath_dict.pkl','rb') as f:\n",
    "    parafac2_all_metab_sigpath_dict = pickle.load(f)"
   ]
  },
  {
   "cell_type": "code",
   "execution_count": 45,
   "metadata": {},
   "outputs": [],
   "source": [
    "parafac1_sig_path_set = set(p1_sigpath_dict.keys())\n",
    "parafac2_common_metab_sigpath_set = set(parafac2_common_metab_sigpath_dict.keys())\n",
    "parafac2_common_prot_sigpath_set = set(parafac2_common_prot_sigpath_dict.keys())\n",
    "p2_common = parafac2_common_metab_sigpath_set.union(parafac2_common_prot_sigpath_set)\n",
    "parafac2_all_prot_sigpath_set = set(parafac2_all_prot_sigpath_dict.keys())\n",
    "parafac2_all_metab_sigpath_set = set(parafac2_all_metab_sigpath_dict.keys())\n",
    "p2_all = parafac2_all_prot_sigpath_set.union(parafac2_all_metab_sigpath_set)"
   ]
  },
  {
   "cell_type": "code",
   "execution_count": 46,
   "metadata": {},
   "outputs": [],
   "source": [
    "all_sig = parafac1_sig_path_set | p2_common | p2_all"
   ]
  },
  {
   "cell_type": "code",
   "execution_count": 49,
   "metadata": {},
   "outputs": [],
   "source": [
    "all_sig = list(all_sig)"
   ]
  },
  {
   "cell_type": "code",
   "execution_count": 4,
   "metadata": {},
   "outputs": [],
   "source": [
    "mild_id = []\n",
    "severe_id = []\n",
    "for index, cond in enumerate(metadata_binary):\n",
    "    for index, id in enumerate(metab_kpca.index):\n",
    "        if cond == 0:\n",
    "            mild_id.append(id)\n",
    "    else:\n",
    "        severe_id.append(id)"
   ]
  },
  {
   "cell_type": "code",
   "execution_count": 5,
   "metadata": {},
   "outputs": [],
   "source": [
    "# metab\n",
    "\n",
    "metab_ps = []\n",
    "for column in metab_kpca.columns:\n",
    "    mild_group = metab_kpca.loc[mild_id][column]\n",
    "    severe_group = metab_kpca.loc[severe_id][column]\n",
    "    _, p_value = stats.mannwhitneyu(mild_group, severe_group, alternative='two-sided')\n",
    "    metab_ps.append(p_value)\n",
    "df_metab_ps=pd.DataFrame({'p_val':metab_ps},index=metab_kpca.columns)\n"
   ]
  },
  {
   "cell_type": "code",
   "execution_count": 6,
   "metadata": {},
   "outputs": [
    {
     "data": {
      "text/html": [
       "<div>\n",
       "<style scoped>\n",
       "    .dataframe tbody tr th:only-of-type {\n",
       "        vertical-align: middle;\n",
       "    }\n",
       "\n",
       "    .dataframe tbody tr th {\n",
       "        vertical-align: top;\n",
       "    }\n",
       "\n",
       "    .dataframe thead th {\n",
       "        text-align: right;\n",
       "    }\n",
       "</style>\n",
       "<table border=\"1\" class=\"dataframe\">\n",
       "  <thead>\n",
       "    <tr style=\"text-align: right;\">\n",
       "      <th></th>\n",
       "      <th>p_val</th>\n",
       "    </tr>\n",
       "  </thead>\n",
       "  <tbody>\n",
       "    <tr>\n",
       "      <th>R-HSA-9006934</th>\n",
       "      <td>5.431834e-01</td>\n",
       "    </tr>\n",
       "    <tr>\n",
       "      <th>R-HSA-15869</th>\n",
       "      <td>1.284971e-01</td>\n",
       "    </tr>\n",
       "    <tr>\n",
       "      <th>R-HSA-445717</th>\n",
       "      <td>6.814124e-02</td>\n",
       "    </tr>\n",
       "    <tr>\n",
       "      <th>R-HSA-8956319</th>\n",
       "      <td>6.814124e-02</td>\n",
       "    </tr>\n",
       "    <tr>\n",
       "      <th>R-HSA-8956321</th>\n",
       "      <td>3.332979e-02</td>\n",
       "    </tr>\n",
       "    <tr>\n",
       "      <th>...</th>\n",
       "      <td>...</td>\n",
       "    </tr>\n",
       "    <tr>\n",
       "      <th>R-HSA-189445</th>\n",
       "      <td>2.995133e-79</td>\n",
       "    </tr>\n",
       "    <tr>\n",
       "      <th>R-HSA-425366</th>\n",
       "      <td>2.995133e-79</td>\n",
       "    </tr>\n",
       "    <tr>\n",
       "      <th>R-HSA-71387</th>\n",
       "      <td>2.995133e-79</td>\n",
       "    </tr>\n",
       "    <tr>\n",
       "      <th>R-HSA-442660</th>\n",
       "      <td>9.135948e-82</td>\n",
       "    </tr>\n",
       "    <tr>\n",
       "      <th>R-HSA-71403</th>\n",
       "      <td>9.135948e-82</td>\n",
       "    </tr>\n",
       "  </tbody>\n",
       "</table>\n",
       "<p>149 rows × 1 columns</p>\n",
       "</div>"
      ],
      "text/plain": [
       "                      p_val\n",
       "R-HSA-9006934  5.431834e-01\n",
       "R-HSA-15869    1.284971e-01\n",
       "R-HSA-445717   6.814124e-02\n",
       "R-HSA-8956319  6.814124e-02\n",
       "R-HSA-8956321  3.332979e-02\n",
       "...                     ...\n",
       "R-HSA-189445   2.995133e-79\n",
       "R-HSA-425366   2.995133e-79\n",
       "R-HSA-71387    2.995133e-79\n",
       "R-HSA-442660   9.135948e-82\n",
       "R-HSA-71403    9.135948e-82\n",
       "\n",
       "[149 rows x 1 columns]"
      ]
     },
     "execution_count": 6,
     "metadata": {},
     "output_type": "execute_result"
    }
   ],
   "source": [
    "df_metab_ps.sort_values(by='p_val',ascending=False)"
   ]
  },
  {
   "cell_type": "code",
   "execution_count": 58,
   "metadata": {},
   "outputs": [
    {
     "name": "stdout",
     "output_type": "stream",
     "text": [
      "Metabolomics Bonferroni corrected alpha is 0.00033557046979865775\n"
     ]
    }
   ],
   "source": [
    "from statsmodels.stats.multitest import multipletests\n",
    "p_values = df_metab_ps['p_val'].to_list()\n",
    "alpha = 0.05\n",
    "corrected_results = multipletests(p_values, alpha=alpha, method='bonferroni')\n",
    "print(f\"Metabolomics Bonferroni corrected alpha is {corrected_results[3]}\")"
   ]
  },
  {
   "cell_type": "code",
   "execution_count": 59,
   "metadata": {},
   "outputs": [
    {
     "data": {
      "text/plain": [
       "8"
      ]
     },
     "execution_count": 59,
     "metadata": {},
     "output_type": "execute_result"
    }
   ],
   "source": [
    "df_metab_ps['Reject'] = corrected_results[0]\n",
    "metab_count_false_rejs = df_metab_ps.loc[df_metab_ps.index.isin(all_sig) & (df_metab_ps['Reject']== False)].shape[0]\n",
    "metab_count_false_rejs"
   ]
  },
  {
   "cell_type": "code",
   "execution_count": 63,
   "metadata": {},
   "outputs": [
    {
     "data": {
      "text/html": [
       "<div>\n",
       "<style scoped>\n",
       "    .dataframe tbody tr th:only-of-type {\n",
       "        vertical-align: middle;\n",
       "    }\n",
       "\n",
       "    .dataframe tbody tr th {\n",
       "        vertical-align: top;\n",
       "    }\n",
       "\n",
       "    .dataframe thead th {\n",
       "        text-align: right;\n",
       "    }\n",
       "</style>\n",
       "<table border=\"1\" class=\"dataframe\">\n",
       "  <thead>\n",
       "    <tr style=\"text-align: right;\">\n",
       "      <th></th>\n",
       "      <th>p_val</th>\n",
       "      <th>Reject</th>\n",
       "    </tr>\n",
       "  </thead>\n",
       "  <tbody>\n",
       "    <tr>\n",
       "      <th>R-HSA-15869</th>\n",
       "      <td>0.128497</td>\n",
       "      <td>False</td>\n",
       "    </tr>\n",
       "    <tr>\n",
       "      <th>R-HSA-194138</th>\n",
       "      <td>0.033330</td>\n",
       "      <td>False</td>\n",
       "    </tr>\n",
       "    <tr>\n",
       "      <th>R-HSA-4420097</th>\n",
       "      <td>0.033330</td>\n",
       "      <td>False</td>\n",
       "    </tr>\n",
       "    <tr>\n",
       "      <th>R-HSA-549127</th>\n",
       "      <td>0.015011</td>\n",
       "      <td>False</td>\n",
       "    </tr>\n",
       "    <tr>\n",
       "      <th>R-HSA-8939211</th>\n",
       "      <td>0.015011</td>\n",
       "      <td>False</td>\n",
       "    </tr>\n",
       "    <tr>\n",
       "      <th>R-HSA-9006931</th>\n",
       "      <td>0.015011</td>\n",
       "      <td>False</td>\n",
       "    </tr>\n",
       "    <tr>\n",
       "      <th>R-HSA-9006934</th>\n",
       "      <td>0.543183</td>\n",
       "      <td>False</td>\n",
       "    </tr>\n",
       "    <tr>\n",
       "      <th>R-HSA-9009391</th>\n",
       "      <td>0.015011</td>\n",
       "      <td>False</td>\n",
       "    </tr>\n",
       "  </tbody>\n",
       "</table>\n",
       "</div>"
      ],
      "text/plain": [
       "                  p_val  Reject\n",
       "R-HSA-15869    0.128497   False\n",
       "R-HSA-194138   0.033330   False\n",
       "R-HSA-4420097  0.033330   False\n",
       "R-HSA-549127   0.015011   False\n",
       "R-HSA-8939211  0.015011   False\n",
       "R-HSA-9006931  0.015011   False\n",
       "R-HSA-9006934  0.543183   False\n",
       "R-HSA-9009391  0.015011   False"
      ]
     },
     "execution_count": 63,
     "metadata": {},
     "output_type": "execute_result"
    }
   ],
   "source": [
    "metab_false_rejs = df_metab_ps.loc[df_metab_ps.index.isin(all_sig) & (df_metab_ps['Reject']== False)]\n",
    "metab_false_rejs"
   ]
  },
  {
   "cell_type": "code",
   "execution_count": 8,
   "metadata": {},
   "outputs": [],
   "source": [
    "prot_ps = []\n",
    "for column in prot_kpca.columns:\n",
    "    mild_group = prot_kpca.loc[mild_id][column]\n",
    "    severe_group = prot_kpca.loc[severe_id][column]\n",
    "    _, p_value = stats.mannwhitneyu(mild_group, severe_group, alternative='two-sided')\n",
    "    prot_ps.append(p_value)\n",
    "df_prot_ps=pd.DataFrame({'p_val':prot_ps},index=prot_kpca.columns)"
   ]
  },
  {
   "cell_type": "code",
   "execution_count": 9,
   "metadata": {},
   "outputs": [
    {
     "data": {
      "text/html": [
       "<div>\n",
       "<style scoped>\n",
       "    .dataframe tbody tr th:only-of-type {\n",
       "        vertical-align: middle;\n",
       "    }\n",
       "\n",
       "    .dataframe tbody tr th {\n",
       "        vertical-align: top;\n",
       "    }\n",
       "\n",
       "    .dataframe thead th {\n",
       "        text-align: right;\n",
       "    }\n",
       "</style>\n",
       "<table border=\"1\" class=\"dataframe\">\n",
       "  <thead>\n",
       "    <tr style=\"text-align: right;\">\n",
       "      <th></th>\n",
       "      <th>p_val</th>\n",
       "    </tr>\n",
       "  </thead>\n",
       "  <tbody>\n",
       "    <tr>\n",
       "      <th>R-HSA-382551</th>\n",
       "      <td>1.000000e+00</td>\n",
       "    </tr>\n",
       "    <tr>\n",
       "      <th>R-HSA-3000480</th>\n",
       "      <td>7.611357e-01</td>\n",
       "    </tr>\n",
       "    <tr>\n",
       "      <th>R-HSA-5218921</th>\n",
       "      <td>5.431834e-01</td>\n",
       "    </tr>\n",
       "    <tr>\n",
       "      <th>R-HSA-190239</th>\n",
       "      <td>5.431834e-01</td>\n",
       "    </tr>\n",
       "    <tr>\n",
       "      <th>R-HSA-190372</th>\n",
       "      <td>5.431834e-01</td>\n",
       "    </tr>\n",
       "    <tr>\n",
       "      <th>...</th>\n",
       "      <td>...</td>\n",
       "    </tr>\n",
       "    <tr>\n",
       "      <th>R-HSA-8986944</th>\n",
       "      <td>2.995133e-79</td>\n",
       "    </tr>\n",
       "    <tr>\n",
       "      <th>R-HSA-1251985</th>\n",
       "      <td>9.135948e-82</td>\n",
       "    </tr>\n",
       "    <tr>\n",
       "      <th>R-HSA-5684996</th>\n",
       "      <td>9.135948e-82</td>\n",
       "    </tr>\n",
       "    <tr>\n",
       "      <th>R-HSA-1236394</th>\n",
       "      <td>9.135948e-82</td>\n",
       "    </tr>\n",
       "    <tr>\n",
       "      <th>R-HSA-5633008</th>\n",
       "      <td>9.135948e-82</td>\n",
       "    </tr>\n",
       "  </tbody>\n",
       "</table>\n",
       "<p>386 rows × 1 columns</p>\n",
       "</div>"
      ],
      "text/plain": [
       "                      p_val\n",
       "R-HSA-382551   1.000000e+00\n",
       "R-HSA-3000480  7.611357e-01\n",
       "R-HSA-5218921  5.431834e-01\n",
       "R-HSA-190239   5.431834e-01\n",
       "R-HSA-190372   5.431834e-01\n",
       "...                     ...\n",
       "R-HSA-8986944  2.995133e-79\n",
       "R-HSA-1251985  9.135948e-82\n",
       "R-HSA-5684996  9.135948e-82\n",
       "R-HSA-1236394  9.135948e-82\n",
       "R-HSA-5633008  9.135948e-82\n",
       "\n",
       "[386 rows x 1 columns]"
      ]
     },
     "execution_count": 9,
     "metadata": {},
     "output_type": "execute_result"
    }
   ],
   "source": [
    "df_prot_ps.sort_values(by='p_val',ascending=False)"
   ]
  },
  {
   "cell_type": "code",
   "execution_count": null,
   "metadata": {},
   "outputs": [],
   "source": [
    "p_values = df_prot_ps['p_val'].to_list()\n",
    "alpha = 0.05\n",
    "corrected_results = multipletests(p_values, alpha=alpha, method='bonferroni')"
   ]
  },
  {
   "cell_type": "code",
   "execution_count": 53,
   "metadata": {},
   "outputs": [
    {
     "data": {
      "text/plain": [
       "0.00012953367875647668"
      ]
     },
     "execution_count": 53,
     "metadata": {},
     "output_type": "execute_result"
    }
   ],
   "source": [
    "corrected_results[3]"
   ]
  },
  {
   "cell_type": "code",
   "execution_count": 42,
   "metadata": {},
   "outputs": [],
   "source": [
    "df_prot_ps['Reject'] = corrected_results[0]"
   ]
  },
  {
   "cell_type": "code",
   "execution_count": 55,
   "metadata": {},
   "outputs": [
    {
     "data": {
      "text/plain": [
       "8"
      ]
     },
     "execution_count": 55,
     "metadata": {},
     "output_type": "execute_result"
    }
   ],
   "source": [
    "prot_count_false_rejs = df_prot_ps.loc[df_prot_ps.index.isin(all_sig) & (df_prot_ps['Reject']== False)].shape[0]\n",
    "prot_count_false_rejs"
   ]
  },
  {
   "cell_type": "code",
   "execution_count": 74,
   "metadata": {},
   "outputs": [
    {
     "data": {
      "text/html": [
       "<div>\n",
       "<style scoped>\n",
       "    .dataframe tbody tr th:only-of-type {\n",
       "        vertical-align: middle;\n",
       "    }\n",
       "\n",
       "    .dataframe tbody tr th {\n",
       "        vertical-align: top;\n",
       "    }\n",
       "\n",
       "    .dataframe thead th {\n",
       "        text-align: right;\n",
       "    }\n",
       "</style>\n",
       "<table border=\"1\" class=\"dataframe\">\n",
       "  <thead>\n",
       "    <tr style=\"text-align: right;\">\n",
       "      <th></th>\n",
       "      <th>p_val</th>\n",
       "      <th>Reject</th>\n",
       "    </tr>\n",
       "  </thead>\n",
       "  <tbody>\n",
       "    <tr>\n",
       "      <th>R-HSA-5693532</th>\n",
       "      <td>0.223970</td>\n",
       "      <td>False</td>\n",
       "    </tr>\n",
       "    <tr>\n",
       "      <th>R-HSA-5693538</th>\n",
       "      <td>0.223970</td>\n",
       "      <td>False</td>\n",
       "    </tr>\n",
       "    <tr>\n",
       "      <th>R-HSA-168255</th>\n",
       "      <td>0.223970</td>\n",
       "      <td>False</td>\n",
       "    </tr>\n",
       "    <tr>\n",
       "      <th>R-HSA-15869</th>\n",
       "      <td>0.000825</td>\n",
       "      <td>False</td>\n",
       "    </tr>\n",
       "    <tr>\n",
       "      <th>R-HSA-389948</th>\n",
       "      <td>0.000825</td>\n",
       "      <td>False</td>\n",
       "    </tr>\n",
       "    <tr>\n",
       "      <th>R-HSA-9679191</th>\n",
       "      <td>0.015011</td>\n",
       "      <td>False</td>\n",
       "    </tr>\n",
       "    <tr>\n",
       "      <th>R-HSA-381340</th>\n",
       "      <td>0.015011</td>\n",
       "      <td>False</td>\n",
       "    </tr>\n",
       "    <tr>\n",
       "      <th>R-HSA-4420097</th>\n",
       "      <td>0.002365</td>\n",
       "      <td>False</td>\n",
       "    </tr>\n",
       "  </tbody>\n",
       "</table>\n",
       "</div>"
      ],
      "text/plain": [
       "                  p_val  Reject\n",
       "R-HSA-5693532  0.223970   False\n",
       "R-HSA-5693538  0.223970   False\n",
       "R-HSA-168255   0.223970   False\n",
       "R-HSA-15869    0.000825   False\n",
       "R-HSA-389948   0.000825   False\n",
       "R-HSA-9679191  0.015011   False\n",
       "R-HSA-381340   0.015011   False\n",
       "R-HSA-4420097  0.002365   False"
      ]
     },
     "execution_count": 74,
     "metadata": {},
     "output_type": "execute_result"
    }
   ],
   "source": [
    "prot_false_rejs = df_prot_ps.loc[df_prot_ps.index.isin(all_sig) & (df_prot_ps['Reject']== False)]\n",
    "prot_false_rejs"
   ]
  },
  {
   "cell_type": "code",
   "execution_count": 66,
   "metadata": {},
   "outputs": [
    {
     "data": {
      "text/html": [
       "<div>\n",
       "<style scoped>\n",
       "    .dataframe tbody tr th:only-of-type {\n",
       "        vertical-align: middle;\n",
       "    }\n",
       "\n",
       "    .dataframe tbody tr th {\n",
       "        vertical-align: top;\n",
       "    }\n",
       "\n",
       "    .dataframe thead th {\n",
       "        text-align: right;\n",
       "    }\n",
       "</style>\n",
       "<table border=\"1\" class=\"dataframe\">\n",
       "  <thead>\n",
       "    <tr style=\"text-align: right;\">\n",
       "      <th></th>\n",
       "      <th>p_val</th>\n",
       "      <th>Reject</th>\n",
       "    </tr>\n",
       "  </thead>\n",
       "  <tbody>\n",
       "    <tr>\n",
       "      <th>R-HSA-15869</th>\n",
       "      <td>0.128497</td>\n",
       "      <td>False</td>\n",
       "    </tr>\n",
       "    <tr>\n",
       "      <th>R-HSA-194138</th>\n",
       "      <td>0.033330</td>\n",
       "      <td>False</td>\n",
       "    </tr>\n",
       "    <tr>\n",
       "      <th>R-HSA-4420097</th>\n",
       "      <td>0.033330</td>\n",
       "      <td>False</td>\n",
       "    </tr>\n",
       "    <tr>\n",
       "      <th>R-HSA-549127</th>\n",
       "      <td>0.015011</td>\n",
       "      <td>False</td>\n",
       "    </tr>\n",
       "    <tr>\n",
       "      <th>R-HSA-8939211</th>\n",
       "      <td>0.015011</td>\n",
       "      <td>False</td>\n",
       "    </tr>\n",
       "    <tr>\n",
       "      <th>R-HSA-9006931</th>\n",
       "      <td>0.015011</td>\n",
       "      <td>False</td>\n",
       "    </tr>\n",
       "    <tr>\n",
       "      <th>R-HSA-9006934</th>\n",
       "      <td>0.543183</td>\n",
       "      <td>False</td>\n",
       "    </tr>\n",
       "    <tr>\n",
       "      <th>R-HSA-9009391</th>\n",
       "      <td>0.015011</td>\n",
       "      <td>False</td>\n",
       "    </tr>\n",
       "  </tbody>\n",
       "</table>\n",
       "</div>"
      ],
      "text/plain": [
       "                  p_val  Reject\n",
       "R-HSA-15869    0.128497   False\n",
       "R-HSA-194138   0.033330   False\n",
       "R-HSA-4420097  0.033330   False\n",
       "R-HSA-549127   0.015011   False\n",
       "R-HSA-8939211  0.015011   False\n",
       "R-HSA-9006931  0.015011   False\n",
       "R-HSA-9006934  0.543183   False\n",
       "R-HSA-9009391  0.015011   False"
      ]
     },
     "execution_count": 66,
     "metadata": {},
     "output_type": "execute_result"
    }
   ],
   "source": [
    "metab_false_rejs"
   ]
  },
  {
   "cell_type": "code",
   "execution_count": 78,
   "metadata": {},
   "outputs": [
    {
     "data": {
      "text/html": [
       "<div>\n",
       "<style scoped>\n",
       "    .dataframe tbody tr th:only-of-type {\n",
       "        vertical-align: middle;\n",
       "    }\n",
       "\n",
       "    .dataframe tbody tr th {\n",
       "        vertical-align: top;\n",
       "    }\n",
       "\n",
       "    .dataframe thead th {\n",
       "        text-align: right;\n",
       "    }\n",
       "</style>\n",
       "<table border=\"1\" class=\"dataframe\">\n",
       "  <thead>\n",
       "    <tr style=\"text-align: right;\">\n",
       "      <th></th>\n",
       "      <th>p_val</th>\n",
       "      <th>Reject</th>\n",
       "    </tr>\n",
       "  </thead>\n",
       "  <tbody>\n",
       "    <tr>\n",
       "      <th>R-HSA-5693532</th>\n",
       "      <td>0.223970</td>\n",
       "      <td>False</td>\n",
       "    </tr>\n",
       "    <tr>\n",
       "      <th>R-HSA-5693538</th>\n",
       "      <td>0.223970</td>\n",
       "      <td>False</td>\n",
       "    </tr>\n",
       "    <tr>\n",
       "      <th>R-HSA-168255</th>\n",
       "      <td>0.223970</td>\n",
       "      <td>False</td>\n",
       "    </tr>\n",
       "    <tr>\n",
       "      <th>R-HSA-15869</th>\n",
       "      <td>0.000825</td>\n",
       "      <td>False</td>\n",
       "    </tr>\n",
       "    <tr>\n",
       "      <th>R-HSA-389948</th>\n",
       "      <td>0.000825</td>\n",
       "      <td>False</td>\n",
       "    </tr>\n",
       "    <tr>\n",
       "      <th>R-HSA-9679191</th>\n",
       "      <td>0.015011</td>\n",
       "      <td>False</td>\n",
       "    </tr>\n",
       "    <tr>\n",
       "      <th>R-HSA-381340</th>\n",
       "      <td>0.015011</td>\n",
       "      <td>False</td>\n",
       "    </tr>\n",
       "    <tr>\n",
       "      <th>R-HSA-4420097</th>\n",
       "      <td>0.002365</td>\n",
       "      <td>False</td>\n",
       "    </tr>\n",
       "  </tbody>\n",
       "</table>\n",
       "</div>"
      ],
      "text/plain": [
       "                  p_val  Reject\n",
       "R-HSA-5693532  0.223970   False\n",
       "R-HSA-5693538  0.223970   False\n",
       "R-HSA-168255   0.223970   False\n",
       "R-HSA-15869    0.000825   False\n",
       "R-HSA-389948   0.000825   False\n",
       "R-HSA-9679191  0.015011   False\n",
       "R-HSA-381340   0.015011   False\n",
       "R-HSA-4420097  0.002365   False"
      ]
     },
     "execution_count": 78,
     "metadata": {},
     "output_type": "execute_result"
    }
   ],
   "source": [
    "prot_false_rejs"
   ]
  },
  {
   "cell_type": "code",
   "execution_count": 80,
   "metadata": {},
   "outputs": [
    {
     "data": {
      "text/plain": [
       "{'R-HSA-15869', 'R-HSA-4420097'}"
      ]
     },
     "execution_count": 80,
     "metadata": {},
     "output_type": "execute_result"
    }
   ],
   "source": [
    "(set(prot_false_rejs.index)).intersection(metab_false_rejs.index)"
   ]
  },
  {
   "cell_type": "code",
   "execution_count": 83,
   "metadata": {},
   "outputs": [],
   "source": [
    "false_paths = list((set(prot_false_rejs.index)).union(metab_false_rejs.index))"
   ]
  },
  {
   "cell_type": "code",
   "execution_count": 85,
   "metadata": {},
   "outputs": [
    {
     "data": {
      "text/plain": [
       "14"
      ]
     },
     "execution_count": 85,
     "metadata": {},
     "output_type": "execute_result"
    }
   ],
   "source": [
    "len(false_paths)"
   ]
  },
  {
   "cell_type": "code",
   "execution_count": 88,
   "metadata": {},
   "outputs": [
    {
     "name": "stdout",
     "output_type": "stream",
     "text": [
      "1 4 9\n"
     ]
    }
   ],
   "source": [
    "false_in_p1_common = []\n",
    "false_in_p2_common = []\n",
    "false_in_p2_all = []\n",
    "for path in false_paths:\n",
    "    if path in p1_sigpath_dict.keys():\n",
    "        false_in_p1_common.append(path)\n",
    "    elif path in list(p2_common):\n",
    "        false_in_p2_common.append(path)\n",
    "    else:\n",
    "        false_in_p2_all.append(path)\n",
    "print(len(false_in_p1_common),len(false_in_p2_common),len(false_in_p2_all))"
   ]
  },
  {
   "cell_type": "code",
   "execution_count": 89,
   "metadata": {},
   "outputs": [
    {
     "data": {
      "text/plain": [
       "['R-HSA-381340']"
      ]
     },
     "execution_count": 89,
     "metadata": {},
     "output_type": "execute_result"
    }
   ],
   "source": [
    "false_in_p1_common"
   ]
  },
  {
   "cell_type": "code",
   "execution_count": 25,
   "metadata": {},
   "outputs": [
    {
     "name": "stderr",
     "output_type": "stream",
     "text": [
      "/var/folders/7h/31w4d6n52ds2j9y7fxh5ngjc0000gn/T/ipykernel_57925/2503461512.py:1: FutureWarning: Calling float on a single element Series is deprecated and will raise a TypeError in the future. Use float(ser.iloc[0]) instead\n",
      "  metabp = float(df_prot_ps.loc['R-HSA-1643685'])\n"
     ]
    }
   ],
   "source": [
    "metabp = float(df_prot_ps.loc['R-HSA-1643685'])"
   ]
  },
  {
   "cell_type": "code",
   "execution_count": 27,
   "metadata": {},
   "outputs": [
    {
     "name": "stderr",
     "output_type": "stream",
     "text": [
      "/var/folders/7h/31w4d6n52ds2j9y7fxh5ngjc0000gn/T/ipykernel_57925/2443212946.py:1: FutureWarning: Calling float on a single element Series is deprecated and will raise a TypeError in the future. Use float(ser.iloc[0]) instead\n",
      "  protp = float(df_metab_ps.loc['R-HSA-1643685'])\n"
     ]
    }
   ],
   "source": [
    "protp = float(df_metab_ps.loc['R-HSA-1643685'])"
   ]
  },
  {
   "cell_type": "code",
   "execution_count": 29,
   "metadata": {},
   "outputs": [
    {
     "data": {
      "text/plain": [
       "6.22781054375223e-48"
      ]
     },
     "execution_count": 29,
     "metadata": {},
     "output_type": "execute_result"
    }
   ],
   "source": [
    "hmp = 2*metabp*protp/(metabp+protp)\n",
    "hmp"
   ]
  },
  {
   "cell_type": "code",
   "execution_count": 31,
   "metadata": {},
   "outputs": [
    {
     "name": "stderr",
     "output_type": "stream",
     "text": [
      "/var/folders/7h/31w4d6n52ds2j9y7fxh5ngjc0000gn/T/ipykernel_57925/1768049086.py:1: FutureWarning: Calling float on a single element Series is deprecated and will raise a TypeError in the future. Use float(ser.iloc[0]) instead\n",
      "  metabp = float(df_prot_ps.loc['R-HSA-168256'])\n",
      "/var/folders/7h/31w4d6n52ds2j9y7fxh5ngjc0000gn/T/ipykernel_57925/1768049086.py:2: FutureWarning: Calling float on a single element Series is deprecated and will raise a TypeError in the future. Use float(ser.iloc[0]) instead\n",
      "  protp = float(df_metab_ps.loc['R-HSA-168256'])\n"
     ]
    },
    {
     "data": {
      "text/plain": [
       "5.144197440787791e-46"
      ]
     },
     "execution_count": 31,
     "metadata": {},
     "output_type": "execute_result"
    }
   ],
   "source": [
    "metabp = float(df_prot_ps.loc['R-HSA-168256'])\n",
    "protp = float(df_metab_ps.loc['R-HSA-168256'])\n",
    "hmp = 2*metabp*protp/(metabp+protp)\n",
    "hmp"
   ]
  },
  {
   "cell_type": "code",
   "execution_count": 10,
   "metadata": {},
   "outputs": [],
   "source": [
    "with open('mw_metab.pkl', 'wb') as f:\n",
    "    pickle.dump(df_metab_ps, f)\n",
    "with open('mw_prot.pkl', 'wb') as f:\n",
    "    pickle.dump(df_prot_ps, f)"
   ]
  }
 ],
 "metadata": {
  "kernelspec": {
   "display_name": "MRes",
   "language": "python",
   "name": "python3"
  },
  "language_info": {
   "codemirror_mode": {
    "name": "ipython",
    "version": 3
   },
   "file_extension": ".py",
   "mimetype": "text/x-python",
   "name": "python",
   "nbconvert_exporter": "python",
   "pygments_lexer": "ipython3",
   "version": "3.12.7"
  }
 },
 "nbformat": 4,
 "nbformat_minor": 2
}
